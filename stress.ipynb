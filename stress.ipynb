{
 "cells": [
  {
   "cell_type": "code",
   "execution_count": 66,
   "metadata": {},
   "outputs": [],
   "source": [
    "import pandas as pd\n",
    "import numpy as np"
   ]
  },
  {
   "cell_type": "code",
   "execution_count": 67,
   "metadata": {},
   "outputs": [
    {
     "data": {
      "text/html": [
       "<div>\n",
       "<style scoped>\n",
       "    .dataframe tbody tr th:only-of-type {\n",
       "        vertical-align: middle;\n",
       "    }\n",
       "\n",
       "    .dataframe tbody tr th {\n",
       "        vertical-align: top;\n",
       "    }\n",
       "\n",
       "    .dataframe thead th {\n",
       "        text-align: right;\n",
       "    }\n",
       "</style>\n",
       "<table border=\"1\" class=\"dataframe\">\n",
       "  <thead>\n",
       "    <tr style=\"text-align: right;\">\n",
       "      <th></th>\n",
       "      <th>start</th>\n",
       "      <th>end</th>\n",
       "      <th>Name of the respondent</th>\n",
       "      <th>Gender</th>\n",
       "      <th>Age</th>\n",
       "      <th>Tick the right choice</th>\n",
       "      <th>If you are a student ,what are you currently pursuing</th>\n",
       "      <th>What kind a person would you rate yourself to be?</th>\n",
       "      <th>What kind a person would you rate yourself to be?/Quite</th>\n",
       "      <th>What kind a person would you rate yourself to be?/Calm</th>\n",
       "      <th>...</th>\n",
       "      <th>_id</th>\n",
       "      <th>_uuid</th>\n",
       "      <th>_submission_time</th>\n",
       "      <th>_validation_status</th>\n",
       "      <th>_notes</th>\n",
       "      <th>_status</th>\n",
       "      <th>_submitted_by</th>\n",
       "      <th>__version__</th>\n",
       "      <th>_tags</th>\n",
       "      <th>_index</th>\n",
       "    </tr>\n",
       "  </thead>\n",
       "  <tbody>\n",
       "    <tr>\n",
       "      <th>0</th>\n",
       "      <td>2023-10-03 15:43:21.595</td>\n",
       "      <td>2023-10-03 15:46:38.266</td>\n",
       "      <td>Cecile Awika</td>\n",
       "      <td>Female</td>\n",
       "      <td>18-22</td>\n",
       "      <td>I am a student</td>\n",
       "      <td>Undergraduate</td>\n",
       "      <td>Calm  Energetic</td>\n",
       "      <td>0.0</td>\n",
       "      <td>1.0</td>\n",
       "      <td>...</td>\n",
       "      <td>274765337</td>\n",
       "      <td>5a2c63ec-ac41-4692-84a1-9b31fc420a7e</td>\n",
       "      <td>2023-10-03 12:47:47</td>\n",
       "      <td>NaN</td>\n",
       "      <td>NaN</td>\n",
       "      <td>submitted_via_web</td>\n",
       "      <td>NaN</td>\n",
       "      <td>vMsivZB8jaAFkkyqy6zKJC</td>\n",
       "      <td>NaN</td>\n",
       "      <td>1</td>\n",
       "    </tr>\n",
       "    <tr>\n",
       "      <th>1</th>\n",
       "      <td>2023-10-03 15:39:48.210</td>\n",
       "      <td>2023-10-03 15:55:30.522</td>\n",
       "      <td>Jael Magero</td>\n",
       "      <td>Female</td>\n",
       "      <td>18-22</td>\n",
       "      <td>I am a student</td>\n",
       "      <td>Undergraduate</td>\n",
       "      <td>Calm</td>\n",
       "      <td>0.0</td>\n",
       "      <td>1.0</td>\n",
       "      <td>...</td>\n",
       "      <td>274767898</td>\n",
       "      <td>2c5cafcf-14b6-4f43-b264-ae2047ff01f6</td>\n",
       "      <td>2023-10-03 12:56:40</td>\n",
       "      <td>NaN</td>\n",
       "      <td>NaN</td>\n",
       "      <td>submitted_via_web</td>\n",
       "      <td>NaN</td>\n",
       "      <td>vMsivZB8jaAFkkyqy6zKJC</td>\n",
       "      <td>NaN</td>\n",
       "      <td>2</td>\n",
       "    </tr>\n",
       "    <tr>\n",
       "      <th>2</th>\n",
       "      <td>2023-10-03 16:10:04.316</td>\n",
       "      <td>2023-10-03 16:13:03.619</td>\n",
       "      <td>NaN</td>\n",
       "      <td>Male</td>\n",
       "      <td>18-22</td>\n",
       "      <td>I am a student</td>\n",
       "      <td>Undergraduate</td>\n",
       "      <td>Active</td>\n",
       "      <td>0.0</td>\n",
       "      <td>0.0</td>\n",
       "      <td>...</td>\n",
       "      <td>274773226</td>\n",
       "      <td>0bc7e4f4-797d-4d11-9cfa-f655fe64f1bd</td>\n",
       "      <td>2023-10-03 13:13:05</td>\n",
       "      <td>NaN</td>\n",
       "      <td>NaN</td>\n",
       "      <td>submitted_via_web</td>\n",
       "      <td>NaN</td>\n",
       "      <td>vMsivZB8jaAFkkyqy6zKJC</td>\n",
       "      <td>NaN</td>\n",
       "      <td>3</td>\n",
       "    </tr>\n",
       "    <tr>\n",
       "      <th>3</th>\n",
       "      <td>2023-10-03 16:10:44.426</td>\n",
       "      <td>2023-10-03 16:13:26.890</td>\n",
       "      <td>Sarah robi</td>\n",
       "      <td>Female</td>\n",
       "      <td>18-22</td>\n",
       "      <td>I am a student</td>\n",
       "      <td>Undergraduate</td>\n",
       "      <td>Calm</td>\n",
       "      <td>0.0</td>\n",
       "      <td>1.0</td>\n",
       "      <td>...</td>\n",
       "      <td>274773391</td>\n",
       "      <td>5aa79243-cbf8-4876-9b2f-16927d55a54c</td>\n",
       "      <td>2023-10-03 13:13:29</td>\n",
       "      <td>NaN</td>\n",
       "      <td>NaN</td>\n",
       "      <td>submitted_via_web</td>\n",
       "      <td>NaN</td>\n",
       "      <td>vMsivZB8jaAFkkyqy6zKJC</td>\n",
       "      <td>NaN</td>\n",
       "      <td>4</td>\n",
       "    </tr>\n",
       "    <tr>\n",
       "      <th>4</th>\n",
       "      <td>2023-10-03 16:17:01.492</td>\n",
       "      <td>2023-10-03 16:17:06.103</td>\n",
       "      <td>NaN</td>\n",
       "      <td>NaN</td>\n",
       "      <td>NaN</td>\n",
       "      <td>NaN</td>\n",
       "      <td>NaN</td>\n",
       "      <td>NaN</td>\n",
       "      <td>NaN</td>\n",
       "      <td>NaN</td>\n",
       "      <td>...</td>\n",
       "      <td>274774351</td>\n",
       "      <td>b77b4792-8ba5-488f-95e9-a5234f75e37a</td>\n",
       "      <td>2023-10-03 13:17:07</td>\n",
       "      <td>NaN</td>\n",
       "      <td>NaN</td>\n",
       "      <td>submitted_via_web</td>\n",
       "      <td>NaN</td>\n",
       "      <td>vMsivZB8jaAFkkyqy6zKJC</td>\n",
       "      <td>NaN</td>\n",
       "      <td>5</td>\n",
       "    </tr>\n",
       "  </tbody>\n",
       "</table>\n",
       "<p>5 rows × 32 columns</p>\n",
       "</div>"
      ],
      "text/plain": [
       "                    start                     end Name of the respondent  \\\n",
       "0 2023-10-03 15:43:21.595 2023-10-03 15:46:38.266           Cecile Awika   \n",
       "1 2023-10-03 15:39:48.210 2023-10-03 15:55:30.522            Jael Magero   \n",
       "2 2023-10-03 16:10:04.316 2023-10-03 16:13:03.619                    NaN   \n",
       "3 2023-10-03 16:10:44.426 2023-10-03 16:13:26.890             Sarah robi   \n",
       "4 2023-10-03 16:17:01.492 2023-10-03 16:17:06.103                    NaN   \n",
       "\n",
       "   Gender    Age Tick the right choice  \\\n",
       "0  Female  18-22        I am a student   \n",
       "1  Female  18-22        I am a student   \n",
       "2    Male  18-22        I am a student   \n",
       "3  Female  18-22        I am a student   \n",
       "4     NaN    NaN                   NaN   \n",
       "\n",
       "  If you are a student ,what are you currently pursuing  \\\n",
       "0                                      Undergraduate      \n",
       "1                                      Undergraduate      \n",
       "2                                      Undergraduate      \n",
       "3                                      Undergraduate      \n",
       "4                                                NaN      \n",
       "\n",
       "  What kind a person would you rate yourself to be?  \\\n",
       "0                                   Calm  Energetic   \n",
       "1                                             Calm    \n",
       "2                                            Active   \n",
       "3                                             Calm    \n",
       "4                                               NaN   \n",
       "\n",
       "   What kind a person would you rate yourself to be?/Quite  \\\n",
       "0                                                0.0         \n",
       "1                                                0.0         \n",
       "2                                                0.0         \n",
       "3                                                0.0         \n",
       "4                                                NaN         \n",
       "\n",
       "   What kind a person would you rate yourself to be?/Calm   ...        _id  \\\n",
       "0                                                1.0        ...  274765337   \n",
       "1                                                1.0        ...  274767898   \n",
       "2                                                0.0        ...  274773226   \n",
       "3                                                1.0        ...  274773391   \n",
       "4                                                NaN        ...  274774351   \n",
       "\n",
       "                                  _uuid    _submission_time  \\\n",
       "0  5a2c63ec-ac41-4692-84a1-9b31fc420a7e 2023-10-03 12:47:47   \n",
       "1  2c5cafcf-14b6-4f43-b264-ae2047ff01f6 2023-10-03 12:56:40   \n",
       "2  0bc7e4f4-797d-4d11-9cfa-f655fe64f1bd 2023-10-03 13:13:05   \n",
       "3  5aa79243-cbf8-4876-9b2f-16927d55a54c 2023-10-03 13:13:29   \n",
       "4  b77b4792-8ba5-488f-95e9-a5234f75e37a 2023-10-03 13:17:07   \n",
       "\n",
       "  _validation_status _notes            _status _submitted_by  \\\n",
       "0                NaN    NaN  submitted_via_web           NaN   \n",
       "1                NaN    NaN  submitted_via_web           NaN   \n",
       "2                NaN    NaN  submitted_via_web           NaN   \n",
       "3                NaN    NaN  submitted_via_web           NaN   \n",
       "4                NaN    NaN  submitted_via_web           NaN   \n",
       "\n",
       "              __version__ _tags _index  \n",
       "0  vMsivZB8jaAFkkyqy6zKJC   NaN      1  \n",
       "1  vMsivZB8jaAFkkyqy6zKJC   NaN      2  \n",
       "2  vMsivZB8jaAFkkyqy6zKJC   NaN      3  \n",
       "3  vMsivZB8jaAFkkyqy6zKJC   NaN      4  \n",
       "4  vMsivZB8jaAFkkyqy6zKJC   NaN      5  \n",
       "\n",
       "[5 rows x 32 columns]"
      ]
     },
     "execution_count": 67,
     "metadata": {},
     "output_type": "execute_result"
    }
   ],
   "source": [
    "path = \"STRESS_AND_STRESS_MANAGEMENT_-_all_versions_-_labels_-_2023-10-10-09-36-41.xlsx\"\n",
    "data  = pd.read_excel(path)\n",
    "data.head()"
   ]
  },
  {
   "cell_type": "code",
   "execution_count": 68,
   "metadata": {},
   "outputs": [
    {
     "data": {
      "text/plain": [
       "Index(['start', 'end', 'Name of the respondent', 'Gender', 'Age',\n",
       "       'Tick the right choice',\n",
       "       'If you are a student ,what are you currently pursuing',\n",
       "       'What kind a person would you rate yourself to be?',\n",
       "       'What kind a person would you rate yourself to be?/Quite',\n",
       "       'What kind a person would you rate yourself to be?/Calm ',\n",
       "       'What kind a person would you rate yourself to be?/Energetic',\n",
       "       'What kind a person would you rate yourself to be?/Active',\n",
       "       'How do you rate yourself in terms of sociability?',\n",
       "       'Do you struggle to fall asleep at night?',\n",
       "       'On average,do you get less than 7-8 hours of sleep a night?',\n",
       "       'Do you feel irritable,annoyed or angry over trival issues?',\n",
       "       'How often are you stressed?',\n",
       "       'How do you feel when things get out of control?',\n",
       "       'What do you do when angry or when with pressure situations?',\n",
       "       'Do you feel like withdrawing from family ,friends and isolating yourself?',\n",
       "       'What do you prefer most?',\n",
       "       'What do you do to deal with stressful situations?(please give as many as you can)',\n",
       "       '_id', '_uuid', '_submission_time', '_validation_status', '_notes',\n",
       "       '_status', '_submitted_by', '__version__', '_tags', '_index'],\n",
       "      dtype='object')"
      ]
     },
     "execution_count": 68,
     "metadata": {},
     "output_type": "execute_result"
    }
   ],
   "source": [
    "data.columns"
   ]
  },
  {
   "cell_type": "code",
   "execution_count": 69,
   "metadata": {},
   "outputs": [
    {
     "data": {
      "text/plain": [
       "What kind a person would you rate yourself to be?/Quite\n",
       "0.0    37\n",
       "1.0     1\n",
       "Name: count, dtype: int64"
      ]
     },
     "execution_count": 69,
     "metadata": {},
     "output_type": "execute_result"
    }
   ],
   "source": [
    "data[\"What kind a person would you rate yourself to be?/Quite\"].value_counts()"
   ]
  },
  {
   "cell_type": "code",
   "execution_count": 70,
   "metadata": {},
   "outputs": [
    {
     "data": {
      "text/plain": [
       "14"
      ]
     },
     "execution_count": 70,
     "metadata": {},
     "output_type": "execute_result"
    }
   ],
   "source": [
    "data[\"What kind a person would you rate yourself to be?/Quite\"].isna().sum()"
   ]
  },
  {
   "cell_type": "code",
   "execution_count": 71,
   "metadata": {},
   "outputs": [],
   "source": [
    "data[\"What kind a person would you rate yourself to be?/Quite\"] = data[\n",
    "    \"What kind a person would you rate yourself to be?/Quite\"].fillna(0)"
   ]
  },
  {
   "cell_type": "code",
   "execution_count": 72,
   "metadata": {},
   "outputs": [
    {
     "data": {
      "text/plain": [
       "0"
      ]
     },
     "execution_count": 72,
     "metadata": {},
     "output_type": "execute_result"
    }
   ],
   "source": [
    "data[\"What kind a person would you rate yourself to be?/Quite\"].isna().sum()"
   ]
  },
  {
   "cell_type": "code",
   "execution_count": 73,
   "metadata": {},
   "outputs": [
    {
     "data": {
      "text/plain": [
       "start                                                                                 0\n",
       "end                                                                                   0\n",
       "Name of the respondent                                                               16\n",
       "Gender                                                                               14\n",
       "Age                                                                                  15\n",
       "Tick the right choice                                                                15\n",
       "If you are a student ,what are you currently pursuing                                20\n",
       "What kind a person would you rate yourself to be?                                    14\n",
       "What kind a person would you rate yourself to be?/Quite                               0\n",
       "What kind a person would you rate yourself to be?/Calm                               14\n",
       "What kind a person would you rate yourself to be?/Energetic                          14\n",
       "What kind a person would you rate yourself to be?/Active                             14\n",
       "How do you rate yourself in terms of sociability?                                    14\n",
       "Do you struggle to fall asleep at night?                                             14\n",
       "On average,do you get less than 7-8 hours of sleep a night?                          14\n",
       "Do you feel irritable,annoyed or angry over trival issues?                           14\n",
       "How often are you stressed?                                                          14\n",
       "How do you feel when things get out of control?                                      15\n",
       "What do you do when angry or when with pressure situations?                          14\n",
       "Do you feel like withdrawing from family ,friends and isolating yourself?            14\n",
       "What do you prefer most?                                                             14\n",
       "What do you do to deal with stressful situations?(please give as many as you can)    17\n",
       "_id                                                                                   0\n",
       "_uuid                                                                                 0\n",
       "_submission_time                                                                      0\n",
       "_validation_status                                                                   52\n",
       "_notes                                                                               52\n",
       "_status                                                                               0\n",
       "_submitted_by                                                                        52\n",
       "__version__                                                                           0\n",
       "_tags                                                                                52\n",
       "_index                                                                                0\n",
       "dtype: int64"
      ]
     },
     "execution_count": 73,
     "metadata": {},
     "output_type": "execute_result"
    }
   ],
   "source": [
    "data.isna().sum()"
   ]
  },
  {
   "cell_type": "code",
   "execution_count": 93,
   "metadata": {},
   "outputs": [
    {
     "data": {
      "text/plain": [
       "0"
      ]
     },
     "execution_count": 93,
     "metadata": {},
     "output_type": "execute_result"
    }
   ],
   "source": [
    "data[\"How often are you stressed?\"].isna().sum()"
   ]
  },
  {
   "cell_type": "code",
   "execution_count": 74,
   "metadata": {},
   "outputs": [],
   "source": [
    "data.dropna(subset=[\"Name of the respondent\"],inplace=True)"
   ]
  },
  {
   "cell_type": "code",
   "execution_count": 75,
   "metadata": {},
   "outputs": [
    {
     "name": "stdout",
     "output_type": "stream",
     "text": [
      "The 'Age' column contains non-numeric values.\n"
     ]
    }
   ],
   "source": [
    "\n",
    "# Check if \"Age\" column contains only numeric values\n",
    "if pd.api.types.is_numeric_dtype(data[\"Age\"]):\n",
    "    # Check if there are missing values in the \"Age\" column\n",
    "    if data[\"Age\"].isnull().any():\n",
    "        # Compute the mean of the \"Age\" column\n",
    "        mean_age = data[\"Age\"].mean()\n",
    "        # Fill missing values with the mean\n",
    "        data[\"Age\"].fillna(mean_age, inplace=True)\n",
    "    else:\n",
    "        # Handle the case when there are no missing values\n",
    "        print(\"No missing values in the 'Age' column.\")\n",
    "else:\n",
    "    # Handle the case when the \"Age\" column contains non-numeric values\n",
    "    print(\"The 'Age' column contains non-numeric values.\")"
   ]
  },
  {
   "cell_type": "code",
   "execution_count": 76,
   "metadata": {},
   "outputs": [],
   "source": [
    "from sklearn.preprocessing import LabelEncoder\n",
    "\n",
    "label_encoder = LabelEncoder()\n",
    "data[\"Age\"] = label_encoder.fit_transform(\n",
    "    data[\"Age\"])"
   ]
  },
  {
   "cell_type": "code",
   "execution_count": 77,
   "metadata": {},
   "outputs": [],
   "source": [
    "mean_age = data[\"Age\"].mean()\n",
    "#Fill missing values with the mean\n",
    "data[\"Age\"].fillna(mean_age, inplace=True)"
   ]
  },
  {
   "cell_type": "code",
   "execution_count": 78,
   "metadata": {},
   "outputs": [
    {
     "data": {
      "text/plain": [
       "0"
      ]
     },
     "execution_count": 78,
     "metadata": {},
     "output_type": "execute_result"
    }
   ],
   "source": [
    "data[\"Age\"].isna().sum()"
   ]
  },
  {
   "cell_type": "code",
   "execution_count": 79,
   "metadata": {},
   "outputs": [
    {
     "data": {
      "text/plain": [
       "On average,do you get less than 7-8 hours of sleep a night?\n",
       "Sometimes        21\n",
       "Never             7\n",
       "Often             4\n",
       "Almost always     4\n",
       "Name: count, dtype: int64"
      ]
     },
     "execution_count": 79,
     "metadata": {},
     "output_type": "execute_result"
    }
   ],
   "source": [
    "data[\"On average,do you get less than 7-8 hours of sleep a night?\"].value_counts()"
   ]
  },
  {
   "cell_type": "code",
   "execution_count": 80,
   "metadata": {},
   "outputs": [
    {
     "data": {
      "image/png": "[encoded data removed]",
      "text/plain": [
       "<Figure size 432x288 with 1 Axes>"
      ]
     },
     "metadata": {
      "needs_background": "light"
     },
     "output_type": "display_data"
    }
   ],
   "source": [
    "import matplotlib.pyplot as plt\n",
    "import seaborn as sns\n",
    "# Create a bar plot\n",
    "value_counts = data[\"On average,do you get less than 7-8 hours of sleep a night?\"].value_counts()\n",
    "plt.bar(value_counts.index, value_counts.values)\n",
    "\n",
    "# Add labels and title\n",
    "plt.xlabel(\"Sleep Duration\")\n",
    "plt.ylabel(\"Count\")\n",
    "plt.title(\"Sleep Duration Distribution\")\n",
    "\n",
    "# Display the plot\n",
    "plt.show()"
   ]
  },
  {
   "cell_type": "code",
   "execution_count": 88,
   "metadata": {},
   "outputs": [
    {
     "name": "stdout",
     "output_type": "stream",
     "text": [
      "<class 'pandas.core.frame.DataFrame'>\n",
      "Index: 36 entries, 0 to 51\n",
      "Data columns (total 32 columns):\n",
      " #   Column                                                                             Non-Null Count  Dtype         \n",
      "---  ------                                                                             --------------  -----         \n",
      " 0   start                                                                              36 non-null     datetime64[ns]\n",
      " 1   end                                                                                36 non-null     datetime64[ns]\n",
      " 2   Name of the respondent                                                             36 non-null     object        \n",
      " 3   Gender                                                                             36 non-null     object        \n",
      " 4   Age                                                                                36 non-null     int32         \n",
      " 5   Tick the right choice                                                              35 non-null     object        \n",
      " 6   If you are a student ,what are you currently pursuing                              30 non-null     object        \n",
      " 7   What kind a person would you rate yourself to be?                                  36 non-null     object        \n",
      " 8   What kind a person would you rate yourself to be?/Quite                            36 non-null     float64       \n",
      " 9   What kind a person would you rate yourself to be?/Calm                             36 non-null     float64       \n",
      " 10  What kind a person would you rate yourself to be?/Energetic                        36 non-null     float64       \n",
      " 11  What kind a person would you rate yourself to be?/Active                           36 non-null     float64       \n",
      " 12  How do you rate yourself in terms of sociability?                                  36 non-null     object        \n",
      " 13  Do you struggle to fall asleep at night?                                           36 non-null     object        \n",
      " 14  On average,do you get less than 7-8 hours of sleep a night?                        36 non-null     object        \n",
      " 15  Do you feel irritable,annoyed or angry over trival issues?                         36 non-null     object        \n",
      " 16  How often are you stressed?                                                        36 non-null     object        \n",
      " 17  How do you feel when things get out of control?                                    35 non-null     object        \n",
      " 18  What do you do when angry or when with pressure situations?                        36 non-null     object        \n",
      " 19  Do you feel like withdrawing from family ,friends and isolating yourself?          36 non-null     object        \n",
      " 20  What do you prefer most?                                                           36 non-null     object        \n",
      " 21  What do you do to deal with stressful situations?(please give as many as you can)  31 non-null     object        \n",
      " 22  _id                                                                                36 non-null     int64         \n",
      " 23  _uuid                                                                              36 non-null     object        \n",
      " 24  _submission_time                                                                   36 non-null     datetime64[ns]\n",
      " 25  _validation_status                                                                 0 non-null      float64       \n",
      " 26  _notes                                                                             0 non-null      float64       \n",
      " 27  _status                                                                            36 non-null     object        \n",
      " 28  _submitted_by                                                                      0 non-null      float64       \n",
      " 29  __version__                                                                        36 non-null     object        \n",
      " 30  _tags                                                                              0 non-null      float64       \n",
      " 31  _index                                                                             36 non-null     int64         \n",
      "dtypes: datetime64[ns](3), float64(8), int32(1), int64(2), object(18)\n",
      "memory usage: 9.1+ KB\n"
     ]
    }
   ],
   "source": [
    "data.info()"
   ]
  },
  {
   "cell_type": "code",
   "execution_count": 92,
   "metadata": {},
   "outputs": [
    {
     "data": {
      "image/png": "[encoded data removed]",
      "text/plain": [
       "<Figure size 432x288 with 1 Axes>"
      ]
     },
     "metadata": {
      "needs_background": "light"
     },
     "output_type": "display_data"
    }
   ],
   "source": [
    "import matplotlib.pyplot as plt\n",
    "\n",
    "# Group the data by \"On average, do you get less than 7-8 hours of sleep a night?\" and another categorical variable\n",
    "grouped_data = data.groupby(\n",
    "    [\"On average,do you get less than 7-8 hours of sleep a night?\", \"How often are you stressed?\"]).size().unstack()\n",
    "\n",
    "# Create the stacked bar plot\n",
    "grouped_data.plot(kind=\"bar\", stacked=True)\n",
    "\n",
    "# Add labels and title\n",
    "plt.xlabel(\"Sleep Duration\")\n",
    "plt.ylabel(\"Count\")\n",
    "plt.title(\"Sleep Duration and Stress Frequency\")\n",
    "\n",
    "# Display the plot\n",
    "plt.show()"
   ]
  },
  {
   "cell_type": "markdown",
   "metadata": {},
   "source": [
    "People who almost always get 7-8 hours of sleep a night, they rarely get stressed\n",
    "while people who never get 7-8 hours sleep at night  often experience stress."
   ]
  },
  {
   "cell_type": "code",
   "execution_count": null,
   "metadata": {},
   "outputs": [],
   "source": []
  }
 ],
 "metadata": {
  "kernelspec": {
   "display_name": "Python (learn-env)",
   "language": "python",
   "name": "learn-env"
  },
  "language_info": {
   "codemirror_mode": {
    "name": "ipython",
    "version": 3
   },
   "file_extension": ".py",
   "mimetype": "text/x-python",
   "name": "python",
   "nbconvert_exporter": "python",
   "pygments_lexer": "ipython3",
   "version": "3.8.5"
  }
 },
 "nbformat": 4,
 "nbformat_minor": 2
}
